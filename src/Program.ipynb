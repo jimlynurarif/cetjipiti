{
 "cells": [
  {
   "cell_type": "markdown",
   "metadata": {
    "id": "uR1JW69eLfG_"
   },
   "source": [
    "# IF3170 Artificial Intelligence | Tugas Besar 2\n"
   ]
  },
  {
   "cell_type": "markdown",
   "metadata": {
    "id": "ucbaI5rBLtjJ"
   },
   "source": [
    "Group Number: 07\n",
    "\n",
    "Group Members:\n",
    "- Jimly Nur Arif (13522123)\n",
    "- Yosef Rafael Joshua (13522133)\n",
    "- Samy Muhammad Haikal (13522151)\n",
    "- Muhammad Roihan (13522152)"
   ]
  },
  {
   "cell_type": "markdown",
   "metadata": {
    "id": "GwzsfETHLfHA"
   },
   "source": [
    "## Import Libraries"
   ]
  },
  {
   "cell_type": "code",
   "execution_count": 87,
   "metadata": {
    "id": "jZJU5W_4LfHB"
   },
   "outputs": [],
   "source": [
    "import pandas as pd\n",
    "import numpy as np\n",
    "import matplotlib.pyplot as plt\n",
    "import seaborn as sns\n",
    "from scipy.stats import skew, kurtosis\n",
    "from sklearn.impute import SimpleImputer\n",
    "from sklearn.model_selection import train_test_split\n",
    "from sklearn.base import BaseEstimator, TransformerMixin\n",
    "from sklearn.preprocessing import MinMaxScaler, StandardScaler,OneHotEncoder, LabelEncoder,PowerTransformer, QuantileTransformer\n",
    "from imblearn.over_sampling import SMOTE\n",
    "from imblearn.under_sampling import RandomUnderSampler\n",
    "from sklearn.decomposition import PCA\n",
    "from sklearn.manifold import TSNE\n",
    "from sklearn.feature_selection import SelectKBest, f_classif, mutual_info_classif"
   ]
  },
  {
   "cell_type": "markdown",
   "metadata": {
    "id": "OKbjLIdYLfHC"
   },
   "source": [
    "## Import Dataset"
   ]
  },
  {
   "cell_type": "code",
   "execution_count": null,
   "metadata": {
    "id": "-IWFJ-gdLfHD"
   },
   "outputs": [
    {
     "data": {
      "text/html": [
       "<div>\n",
       "<style scoped>\n",
       "    .dataframe tbody tr th:only-of-type {\n",
       "        vertical-align: middle;\n",
       "    }\n",
       "\n",
       "    .dataframe tbody tr th {\n",
       "        vertical-align: top;\n",
       "    }\n",
       "\n",
       "    .dataframe thead th {\n",
       "        text-align: right;\n",
       "    }\n",
       "</style>\n",
       "<table border=\"1\" class=\"dataframe\">\n",
       "  <thead>\n",
       "    <tr style=\"text-align: right;\">\n",
       "      <th></th>\n",
       "      <th>is_sm_ips_ports</th>\n",
       "      <th>ct_state_ttl</th>\n",
       "      <th>ct_flw_http_mthd</th>\n",
       "      <th>is_ftp_login</th>\n",
       "      <th>ct_ftp_cmd</th>\n",
       "      <th>ct_srv_src</th>\n",
       "      <th>ct_srv_dst</th>\n",
       "      <th>ct_dst_ltm</th>\n",
       "      <th>ct_src_ltm</th>\n",
       "      <th>ct_src_dport_ltm</th>\n",
       "      <th>...</th>\n",
       "      <th>proto</th>\n",
       "      <th>attack_cat</th>\n",
       "      <th>label</th>\n",
       "      <th>sjit</th>\n",
       "      <th>djit</th>\n",
       "      <th>sinpkt</th>\n",
       "      <th>dinpkt</th>\n",
       "      <th>tcprtt</th>\n",
       "      <th>synack</th>\n",
       "      <th>ackdat</th>\n",
       "    </tr>\n",
       "  </thead>\n",
       "  <tbody>\n",
       "    <tr>\n",
       "      <th>0</th>\n",
       "      <td>0.0</td>\n",
       "      <td>0.0</td>\n",
       "      <td>0.0</td>\n",
       "      <td>0.0</td>\n",
       "      <td>0.0</td>\n",
       "      <td>11.0</td>\n",
       "      <td>NaN</td>\n",
       "      <td>5.0</td>\n",
       "      <td>4.0</td>\n",
       "      <td>2.0</td>\n",
       "      <td>...</td>\n",
       "      <td>tcp</td>\n",
       "      <td>Normal</td>\n",
       "      <td>0</td>\n",
       "      <td>4449.110313</td>\n",
       "      <td>3234.831566</td>\n",
       "      <td>11.845558</td>\n",
       "      <td>6.261361</td>\n",
       "      <td>NaN</td>\n",
       "      <td>0.000444</td>\n",
       "      <td>0.000114</td>\n",
       "    </tr>\n",
       "    <tr>\n",
       "      <th>1</th>\n",
       "      <td>0.0</td>\n",
       "      <td>2.0</td>\n",
       "      <td>0.0</td>\n",
       "      <td>0.0</td>\n",
       "      <td>0.0</td>\n",
       "      <td>10.0</td>\n",
       "      <td>10.0</td>\n",
       "      <td>10.0</td>\n",
       "      <td>10.0</td>\n",
       "      <td>NaN</td>\n",
       "      <td>...</td>\n",
       "      <td>udp</td>\n",
       "      <td>Generic</td>\n",
       "      <td>1</td>\n",
       "      <td>0.000000</td>\n",
       "      <td>0.000000</td>\n",
       "      <td>0.009000</td>\n",
       "      <td>0.000000</td>\n",
       "      <td>0.000000</td>\n",
       "      <td>0.000000</td>\n",
       "      <td>NaN</td>\n",
       "    </tr>\n",
       "    <tr>\n",
       "      <th>2</th>\n",
       "      <td>0.0</td>\n",
       "      <td>NaN</td>\n",
       "      <td>0.0</td>\n",
       "      <td>0.0</td>\n",
       "      <td>0.0</td>\n",
       "      <td>4.0</td>\n",
       "      <td>4.0</td>\n",
       "      <td>2.0</td>\n",
       "      <td>2.0</td>\n",
       "      <td>1.0</td>\n",
       "      <td>...</td>\n",
       "      <td>tcp</td>\n",
       "      <td>Exploits</td>\n",
       "      <td>1</td>\n",
       "      <td>8561.040438</td>\n",
       "      <td>249.950547</td>\n",
       "      <td>165.386453</td>\n",
       "      <td>172.345750</td>\n",
       "      <td>0.158826</td>\n",
       "      <td>0.057902</td>\n",
       "      <td>0.100924</td>\n",
       "    </tr>\n",
       "    <tr>\n",
       "      <th>3</th>\n",
       "      <td>0.0</td>\n",
       "      <td>0.0</td>\n",
       "      <td>0.0</td>\n",
       "      <td>0.0</td>\n",
       "      <td>0.0</td>\n",
       "      <td>9.0</td>\n",
       "      <td>9.0</td>\n",
       "      <td>3.0</td>\n",
       "      <td>2.0</td>\n",
       "      <td>2.0</td>\n",
       "      <td>...</td>\n",
       "      <td>tcp</td>\n",
       "      <td>Normal</td>\n",
       "      <td>0</td>\n",
       "      <td>4053.086020</td>\n",
       "      <td>2918.730804</td>\n",
       "      <td>8.669644</td>\n",
       "      <td>4.496707</td>\n",
       "      <td>0.000558</td>\n",
       "      <td>0.000448</td>\n",
       "      <td>NaN</td>\n",
       "    </tr>\n",
       "    <tr>\n",
       "      <th>4</th>\n",
       "      <td>0.0</td>\n",
       "      <td>0.0</td>\n",
       "      <td>0.0</td>\n",
       "      <td>0.0</td>\n",
       "      <td>0.0</td>\n",
       "      <td>3.0</td>\n",
       "      <td>3.0</td>\n",
       "      <td>4.0</td>\n",
       "      <td>3.0</td>\n",
       "      <td>1.0</td>\n",
       "      <td>...</td>\n",
       "      <td>udp</td>\n",
       "      <td>Normal</td>\n",
       "      <td>0</td>\n",
       "      <td>0.000000</td>\n",
       "      <td>0.000000</td>\n",
       "      <td>0.008000</td>\n",
       "      <td>0.007000</td>\n",
       "      <td>0.000000</td>\n",
       "      <td>0.000000</td>\n",
       "      <td>0.000000</td>\n",
       "    </tr>\n",
       "  </tbody>\n",
       "</table>\n",
       "<p>5 rows × 44 columns</p>\n",
       "</div>"
      ],
      "text/plain": [
       "   is_sm_ips_ports  ct_state_ttl  ct_flw_http_mthd  is_ftp_login  ct_ftp_cmd  \\\n",
       "0              0.0           0.0               0.0           0.0         0.0   \n",
       "1              0.0           2.0               0.0           0.0         0.0   \n",
       "2              0.0           NaN               0.0           0.0         0.0   \n",
       "3              0.0           0.0               0.0           0.0         0.0   \n",
       "4              0.0           0.0               0.0           0.0         0.0   \n",
       "\n",
       "   ct_srv_src  ct_srv_dst  ct_dst_ltm  ct_src_ltm  ct_src_dport_ltm  ...  \\\n",
       "0        11.0         NaN         5.0         4.0               2.0  ...   \n",
       "1        10.0        10.0        10.0        10.0               NaN  ...   \n",
       "2         4.0         4.0         2.0         2.0               1.0  ...   \n",
       "3         9.0         9.0         3.0         2.0               2.0  ...   \n",
       "4         3.0         3.0         4.0         3.0               1.0  ...   \n",
       "\n",
       "   proto  attack_cat  label         sjit         djit      sinpkt      dinpkt  \\\n",
       "0    tcp      Normal      0  4449.110313  3234.831566   11.845558    6.261361   \n",
       "1    udp     Generic      1     0.000000     0.000000    0.009000    0.000000   \n",
       "2    tcp    Exploits      1  8561.040438   249.950547  165.386453  172.345750   \n",
       "3    tcp      Normal      0  4053.086020  2918.730804    8.669644    4.496707   \n",
       "4    udp      Normal      0     0.000000     0.000000    0.008000    0.007000   \n",
       "\n",
       "     tcprtt    synack    ackdat  \n",
       "0       NaN  0.000444  0.000114  \n",
       "1  0.000000  0.000000       NaN  \n",
       "2  0.158826  0.057902  0.100924  \n",
       "3  0.000558  0.000448       NaN  \n",
       "4  0.000000  0.000000  0.000000  \n",
       "\n",
       "[5 rows x 44 columns]"
      ]
     },
     "execution_count": 88,
     "metadata": {},
     "output_type": "execute_result"
    }
   ],
   "source": [
    "additional = pd.read_csv('../data/train/additional_features_train.csv')\n",
    "basic = pd.read_csv('../data/train/basic_features_train.csv')\n",
    "content = pd.read_csv('../data/train/content_features_train.csv')\n",
    "flow = pd.read_csv('../data/train/flow_features_train.csv')\n",
    "labels = pd.read_csv('../data/train/labels_train.csv')\n",
    "time = pd.read_csv('../data/train/time_features_train.csv')\n",
    "\n",
    "# Membuat df_train yakni gabungan dari semua data train\n",
    "df_train = additional\n",
    "for df in [basic,content,flow,labels,time]:\n",
    "  df_train = pd.merge(df_train, df, on=\"id\")"
   ]
  },
  {
   "cell_type": "markdown",
   "metadata": {
    "id": "YdSor5sdIYGs"
   },
   "source": [
    "# Exploratory Data Analysis (Optional)\n",
    "\n",
    "Exploratory Data Analysis (EDA) is a crucial step in the data analysis process that involves examining and visualizing data sets to uncover patterns, trends, anomalies, and insights. It is the first step before applying more advanced statistical and machine learning techniques. EDA helps you to gain a deep understanding of the data you are working with, allowing you to make informed decisions and formulate hypotheses for further analysis."
   ]
  },
  {
   "cell_type": "code",
   "execution_count": 115,
   "metadata": {
    "id": "bGiGPVYNIoWk"
   },
   "outputs": [
    {
     "data": {
      "text/html": [
       "<div>\n",
       "<style scoped>\n",
       "    .dataframe tbody tr th:only-of-type {\n",
       "        vertical-align: middle;\n",
       "    }\n",
       "\n",
       "    .dataframe tbody tr th {\n",
       "        vertical-align: top;\n",
       "    }\n",
       "\n",
       "    .dataframe thead th {\n",
       "        text-align: right;\n",
       "    }\n",
       "</style>\n",
       "<table border=\"1\" class=\"dataframe\">\n",
       "  <thead>\n",
       "    <tr style=\"text-align: right;\">\n",
       "      <th></th>\n",
       "      <th>is_sm_ips_ports</th>\n",
       "      <th>ct_state_ttl</th>\n",
       "      <th>ct_flw_http_mthd</th>\n",
       "      <th>is_ftp_login</th>\n",
       "      <th>ct_ftp_cmd</th>\n",
       "      <th>ct_srv_src</th>\n",
       "      <th>ct_srv_dst</th>\n",
       "      <th>ct_dst_ltm</th>\n",
       "      <th>ct_src_ltm</th>\n",
       "      <th>ct_src_dport_ltm</th>\n",
       "      <th>...</th>\n",
       "      <th>proto</th>\n",
       "      <th>attack_cat</th>\n",
       "      <th>label</th>\n",
       "      <th>sjit</th>\n",
       "      <th>djit</th>\n",
       "      <th>sinpkt</th>\n",
       "      <th>dinpkt</th>\n",
       "      <th>tcprtt</th>\n",
       "      <th>synack</th>\n",
       "      <th>ackdat</th>\n",
       "    </tr>\n",
       "  </thead>\n",
       "  <tbody>\n",
       "    <tr>\n",
       "      <th>0</th>\n",
       "      <td>0.0</td>\n",
       "      <td>0.0</td>\n",
       "      <td>0.0</td>\n",
       "      <td>0.0</td>\n",
       "      <td>0.0</td>\n",
       "      <td>11.0</td>\n",
       "      <td>NaN</td>\n",
       "      <td>5.0</td>\n",
       "      <td>4.0</td>\n",
       "      <td>2.0</td>\n",
       "      <td>...</td>\n",
       "      <td>tcp</td>\n",
       "      <td>Normal</td>\n",
       "      <td>0</td>\n",
       "      <td>4449.110313</td>\n",
       "      <td>3234.831566</td>\n",
       "      <td>11.845558</td>\n",
       "      <td>6.261361</td>\n",
       "      <td>NaN</td>\n",
       "      <td>0.000444</td>\n",
       "      <td>0.000114</td>\n",
       "    </tr>\n",
       "    <tr>\n",
       "      <th>1</th>\n",
       "      <td>0.0</td>\n",
       "      <td>2.0</td>\n",
       "      <td>0.0</td>\n",
       "      <td>0.0</td>\n",
       "      <td>0.0</td>\n",
       "      <td>10.0</td>\n",
       "      <td>10.0</td>\n",
       "      <td>10.0</td>\n",
       "      <td>10.0</td>\n",
       "      <td>NaN</td>\n",
       "      <td>...</td>\n",
       "      <td>udp</td>\n",
       "      <td>Generic</td>\n",
       "      <td>1</td>\n",
       "      <td>0.000000</td>\n",
       "      <td>0.000000</td>\n",
       "      <td>0.009000</td>\n",
       "      <td>0.000000</td>\n",
       "      <td>0.000000</td>\n",
       "      <td>0.000000</td>\n",
       "      <td>NaN</td>\n",
       "    </tr>\n",
       "    <tr>\n",
       "      <th>2</th>\n",
       "      <td>0.0</td>\n",
       "      <td>NaN</td>\n",
       "      <td>0.0</td>\n",
       "      <td>0.0</td>\n",
       "      <td>0.0</td>\n",
       "      <td>4.0</td>\n",
       "      <td>4.0</td>\n",
       "      <td>2.0</td>\n",
       "      <td>2.0</td>\n",
       "      <td>1.0</td>\n",
       "      <td>...</td>\n",
       "      <td>tcp</td>\n",
       "      <td>Exploits</td>\n",
       "      <td>1</td>\n",
       "      <td>8561.040438</td>\n",
       "      <td>249.950547</td>\n",
       "      <td>165.386453</td>\n",
       "      <td>172.345750</td>\n",
       "      <td>0.158826</td>\n",
       "      <td>0.057902</td>\n",
       "      <td>0.100924</td>\n",
       "    </tr>\n",
       "    <tr>\n",
       "      <th>3</th>\n",
       "      <td>0.0</td>\n",
       "      <td>0.0</td>\n",
       "      <td>0.0</td>\n",
       "      <td>0.0</td>\n",
       "      <td>0.0</td>\n",
       "      <td>9.0</td>\n",
       "      <td>9.0</td>\n",
       "      <td>3.0</td>\n",
       "      <td>2.0</td>\n",
       "      <td>2.0</td>\n",
       "      <td>...</td>\n",
       "      <td>tcp</td>\n",
       "      <td>Normal</td>\n",
       "      <td>0</td>\n",
       "      <td>4053.086020</td>\n",
       "      <td>2918.730804</td>\n",
       "      <td>8.669644</td>\n",
       "      <td>4.496707</td>\n",
       "      <td>0.000558</td>\n",
       "      <td>0.000448</td>\n",
       "      <td>NaN</td>\n",
       "    </tr>\n",
       "    <tr>\n",
       "      <th>4</th>\n",
       "      <td>0.0</td>\n",
       "      <td>0.0</td>\n",
       "      <td>0.0</td>\n",
       "      <td>0.0</td>\n",
       "      <td>0.0</td>\n",
       "      <td>3.0</td>\n",
       "      <td>3.0</td>\n",
       "      <td>4.0</td>\n",
       "      <td>3.0</td>\n",
       "      <td>1.0</td>\n",
       "      <td>...</td>\n",
       "      <td>udp</td>\n",
       "      <td>Normal</td>\n",
       "      <td>0</td>\n",
       "      <td>0.000000</td>\n",
       "      <td>0.000000</td>\n",
       "      <td>0.008000</td>\n",
       "      <td>0.007000</td>\n",
       "      <td>0.000000</td>\n",
       "      <td>0.000000</td>\n",
       "      <td>0.000000</td>\n",
       "    </tr>\n",
       "  </tbody>\n",
       "</table>\n",
       "<p>5 rows × 44 columns</p>\n",
       "</div>"
      ],
      "text/plain": [
       "   is_sm_ips_ports  ct_state_ttl  ct_flw_http_mthd  is_ftp_login  ct_ftp_cmd  \\\n",
       "0              0.0           0.0               0.0           0.0         0.0   \n",
       "1              0.0           2.0               0.0           0.0         0.0   \n",
       "2              0.0           NaN               0.0           0.0         0.0   \n",
       "3              0.0           0.0               0.0           0.0         0.0   \n",
       "4              0.0           0.0               0.0           0.0         0.0   \n",
       "\n",
       "   ct_srv_src  ct_srv_dst  ct_dst_ltm  ct_src_ltm  ct_src_dport_ltm  ...  \\\n",
       "0        11.0         NaN         5.0         4.0               2.0  ...   \n",
       "1        10.0        10.0        10.0        10.0               NaN  ...   \n",
       "2         4.0         4.0         2.0         2.0               1.0  ...   \n",
       "3         9.0         9.0         3.0         2.0               2.0  ...   \n",
       "4         3.0         3.0         4.0         3.0               1.0  ...   \n",
       "\n",
       "   proto  attack_cat  label         sjit         djit      sinpkt      dinpkt  \\\n",
       "0    tcp      Normal      0  4449.110313  3234.831566   11.845558    6.261361   \n",
       "1    udp     Generic      1     0.000000     0.000000    0.009000    0.000000   \n",
       "2    tcp    Exploits      1  8561.040438   249.950547  165.386453  172.345750   \n",
       "3    tcp      Normal      0  4053.086020  2918.730804    8.669644    4.496707   \n",
       "4    udp      Normal      0     0.000000     0.000000    0.008000    0.007000   \n",
       "\n",
       "     tcprtt    synack    ackdat  \n",
       "0       NaN  0.000444  0.000114  \n",
       "1  0.000000  0.000000       NaN  \n",
       "2  0.158826  0.057902  0.100924  \n",
       "3  0.000558  0.000448       NaN  \n",
       "4  0.000000  0.000000  0.000000  \n",
       "\n",
       "[5 rows x 44 columns]"
      ]
     },
     "execution_count": 115,
     "metadata": {},
     "output_type": "execute_result"
    }
   ],
   "source": [
    "# gabungan data train\n",
    "df_train.head()"
   ]
  },
  {
   "cell_type": "code",
   "execution_count": 116,
   "metadata": {},
   "outputs": [
    {
     "data": {
      "text/plain": [
       "is_sm_ips_ports      8746\n",
       "ct_state_ttl         8635\n",
       "ct_flw_http_mthd     8647\n",
       "is_ftp_login         8647\n",
       "ct_ftp_cmd           8842\n",
       "ct_srv_src           8851\n",
       "ct_srv_dst           8774\n",
       "ct_dst_ltm           8738\n",
       "ct_src_ltm           8823\n",
       "ct_src_dport_ltm     8775\n",
       "ct_dst_sport_ltm     8788\n",
       "ct_dst_src_ltm       8895\n",
       "id                      0\n",
       "state                8805\n",
       "dur                  8722\n",
       "sbytes               8561\n",
       "dbytes               8869\n",
       "sttl                 8825\n",
       "dttl                 8654\n",
       "sloss                8794\n",
       "dloss                8978\n",
       "service              8791\n",
       "sload                8786\n",
       "dload                8837\n",
       "spkts                8654\n",
       "dpkts                8686\n",
       "swin                 8740\n",
       "dwin                 8779\n",
       "stcpb                8672\n",
       "dtcpb                8803\n",
       "smean                8788\n",
       "dmean                8855\n",
       "trans_depth          8785\n",
       "response_body_len    8791\n",
       "proto                8826\n",
       "attack_cat              0\n",
       "label                   0\n",
       "sjit                 8738\n",
       "djit                 8846\n",
       "sinpkt               8707\n",
       "dinpkt               8734\n",
       "tcprtt               8836\n",
       "synack               8736\n",
       "ackdat               8595\n",
       "dtype: int64"
      ]
     },
     "execution_count": 116,
     "metadata": {},
     "output_type": "execute_result"
    }
   ],
   "source": [
    "# jumlah missing value\n",
    "df_train.isnull().sum()"
   ]
  },
  {
   "cell_type": "code",
   "execution_count": 117,
   "metadata": {},
   "outputs": [
    {
     "name": "stdout",
     "output_type": "stream",
     "text": [
      "<class 'pandas.core.frame.DataFrame'>\n",
      "RangeIndex: 175341 entries, 0 to 175340\n",
      "Data columns (total 44 columns):\n",
      " #   Column             Non-Null Count   Dtype  \n",
      "---  ------             --------------   -----  \n",
      " 0   is_sm_ips_ports    166595 non-null  float64\n",
      " 1   ct_state_ttl       166706 non-null  float64\n",
      " 2   ct_flw_http_mthd   166694 non-null  float64\n",
      " 3   is_ftp_login       166694 non-null  float64\n",
      " 4   ct_ftp_cmd         166499 non-null  float64\n",
      " 5   ct_srv_src         166490 non-null  float64\n",
      " 6   ct_srv_dst         166567 non-null  float64\n",
      " 7   ct_dst_ltm         166603 non-null  float64\n",
      " 8   ct_src_ltm         166518 non-null  float64\n",
      " 9   ct_src_dport_ltm   166566 non-null  float64\n",
      " 10  ct_dst_sport_ltm   166553 non-null  float64\n",
      " 11  ct_dst_src_ltm     166446 non-null  float64\n",
      " 12  id                 175341 non-null  int64  \n",
      " 13  state              166536 non-null  object \n",
      " 14  dur                166619 non-null  float64\n",
      " 15  sbytes             166780 non-null  float64\n",
      " 16  dbytes             166472 non-null  float64\n",
      " 17  sttl               166516 non-null  float64\n",
      " 18  dttl               166687 non-null  float64\n",
      " 19  sloss              166547 non-null  float64\n",
      " 20  dloss              166363 non-null  float64\n",
      " 21  service            166550 non-null  object \n",
      " 22  sload              166555 non-null  float64\n",
      " 23  dload              166504 non-null  float64\n",
      " 24  spkts              166687 non-null  float64\n",
      " 25  dpkts              166655 non-null  float64\n",
      " 26  swin               166601 non-null  float64\n",
      " 27  dwin               166562 non-null  float64\n",
      " 28  stcpb              166669 non-null  float64\n",
      " 29  dtcpb              166538 non-null  float64\n",
      " 30  smean              166553 non-null  float64\n",
      " 31  dmean              166486 non-null  float64\n",
      " 32  trans_depth        166556 non-null  float64\n",
      " 33  response_body_len  166550 non-null  float64\n",
      " 34  proto              166515 non-null  object \n",
      " 35  attack_cat         175341 non-null  object \n",
      " 36  label              175341 non-null  int64  \n",
      " 37  sjit               166603 non-null  float64\n",
      " 38  djit               166495 non-null  float64\n",
      " 39  sinpkt             166634 non-null  float64\n",
      " 40  dinpkt             166607 non-null  float64\n",
      " 41  tcprtt             166505 non-null  float64\n",
      " 42  synack             166605 non-null  float64\n",
      " 43  ackdat             166746 non-null  float64\n",
      "dtypes: float64(38), int64(2), object(4)\n",
      "memory usage: 58.9+ MB\n"
     ]
    }
   ],
   "source": [
    "df_train.info()"
   ]
  },
  {
   "cell_type": "code",
   "execution_count": 118,
   "metadata": {},
   "outputs": [
    {
     "data": {
      "text/html": [
       "<div>\n",
       "<style scoped>\n",
       "    .dataframe tbody tr th:only-of-type {\n",
       "        vertical-align: middle;\n",
       "    }\n",
       "\n",
       "    .dataframe tbody tr th {\n",
       "        vertical-align: top;\n",
       "    }\n",
       "\n",
       "    .dataframe thead th {\n",
       "        text-align: right;\n",
       "    }\n",
       "</style>\n",
       "<table border=\"1\" class=\"dataframe\">\n",
       "  <thead>\n",
       "    <tr style=\"text-align: right;\">\n",
       "      <th></th>\n",
       "      <th>is_sm_ips_ports</th>\n",
       "      <th>ct_state_ttl</th>\n",
       "      <th>ct_flw_http_mthd</th>\n",
       "      <th>is_ftp_login</th>\n",
       "      <th>ct_ftp_cmd</th>\n",
       "      <th>ct_srv_src</th>\n",
       "      <th>ct_srv_dst</th>\n",
       "      <th>ct_dst_ltm</th>\n",
       "      <th>ct_src_ltm</th>\n",
       "      <th>ct_src_dport_ltm</th>\n",
       "      <th>...</th>\n",
       "      <th>trans_depth</th>\n",
       "      <th>response_body_len</th>\n",
       "      <th>label</th>\n",
       "      <th>sjit</th>\n",
       "      <th>djit</th>\n",
       "      <th>sinpkt</th>\n",
       "      <th>dinpkt</th>\n",
       "      <th>tcprtt</th>\n",
       "      <th>synack</th>\n",
       "      <th>ackdat</th>\n",
       "    </tr>\n",
       "  </thead>\n",
       "  <tbody>\n",
       "    <tr>\n",
       "      <th>count</th>\n",
       "      <td>166595.000000</td>\n",
       "      <td>166706.000000</td>\n",
       "      <td>166694.000000</td>\n",
       "      <td>166694.000000</td>\n",
       "      <td>166499.000000</td>\n",
       "      <td>166490.000000</td>\n",
       "      <td>166567.000000</td>\n",
       "      <td>166603.000000</td>\n",
       "      <td>166518.000000</td>\n",
       "      <td>166566.000000</td>\n",
       "      <td>...</td>\n",
       "      <td>166556.000000</td>\n",
       "      <td>1.665500e+05</td>\n",
       "      <td>175341.000000</td>\n",
       "      <td>1.666030e+05</td>\n",
       "      <td>166495.000000</td>\n",
       "      <td>166634.000000</td>\n",
       "      <td>166607.000000</td>\n",
       "      <td>166505.000000</td>\n",
       "      <td>166605.000000</td>\n",
       "      <td>166746.000000</td>\n",
       "    </tr>\n",
       "    <tr>\n",
       "      <th>mean</th>\n",
       "      <td>0.015799</td>\n",
       "      <td>1.303852</td>\n",
       "      <td>0.132722</td>\n",
       "      <td>0.014974</td>\n",
       "      <td>0.014961</td>\n",
       "      <td>9.304415</td>\n",
       "      <td>9.104384</td>\n",
       "      <td>6.191773</td>\n",
       "      <td>6.952450</td>\n",
       "      <td>5.388116</td>\n",
       "      <td>...</td>\n",
       "      <td>0.106193</td>\n",
       "      <td>2.157133e+03</td>\n",
       "      <td>0.680622</td>\n",
       "      <td>4.993982e+03</td>\n",
       "      <td>604.891720</td>\n",
       "      <td>987.360974</td>\n",
       "      <td>87.763617</td>\n",
       "      <td>0.041331</td>\n",
       "      <td>0.021042</td>\n",
       "      <td>0.020402</td>\n",
       "    </tr>\n",
       "    <tr>\n",
       "      <th>std</th>\n",
       "      <td>0.124697</td>\n",
       "      <td>0.954779</td>\n",
       "      <td>0.692019</td>\n",
       "      <td>0.126338</td>\n",
       "      <td>0.125771</td>\n",
       "      <td>10.699782</td>\n",
       "      <td>10.758098</td>\n",
       "      <td>8.050067</td>\n",
       "      <td>8.318103</td>\n",
       "      <td>8.044942</td>\n",
       "      <td>...</td>\n",
       "      <td>0.794070</td>\n",
       "      <td>5.509898e+04</td>\n",
       "      <td>0.466237</td>\n",
       "      <td>4.506783e+04</td>\n",
       "      <td>4082.439167</td>\n",
       "      <td>7246.462797</td>\n",
       "      <td>987.040024</td>\n",
       "      <td>0.079428</td>\n",
       "      <td>0.043560</td>\n",
       "      <td>0.040619</td>\n",
       "    </tr>\n",
       "    <tr>\n",
       "      <th>min</th>\n",
       "      <td>0.000000</td>\n",
       "      <td>0.000000</td>\n",
       "      <td>0.000000</td>\n",
       "      <td>0.000000</td>\n",
       "      <td>0.000000</td>\n",
       "      <td>1.000000</td>\n",
       "      <td>1.000000</td>\n",
       "      <td>1.000000</td>\n",
       "      <td>1.000000</td>\n",
       "      <td>1.000000</td>\n",
       "      <td>...</td>\n",
       "      <td>0.000000</td>\n",
       "      <td>0.000000e+00</td>\n",
       "      <td>0.000000</td>\n",
       "      <td>0.000000e+00</td>\n",
       "      <td>0.000000</td>\n",
       "      <td>0.000000</td>\n",
       "      <td>0.000000</td>\n",
       "      <td>0.000000</td>\n",
       "      <td>0.000000</td>\n",
       "      <td>0.000000</td>\n",
       "    </tr>\n",
       "    <tr>\n",
       "      <th>25%</th>\n",
       "      <td>0.000000</td>\n",
       "      <td>1.000000</td>\n",
       "      <td>0.000000</td>\n",
       "      <td>0.000000</td>\n",
       "      <td>0.000000</td>\n",
       "      <td>2.000000</td>\n",
       "      <td>2.000000</td>\n",
       "      <td>1.000000</td>\n",
       "      <td>2.000000</td>\n",
       "      <td>1.000000</td>\n",
       "      <td>...</td>\n",
       "      <td>0.000000</td>\n",
       "      <td>0.000000e+00</td>\n",
       "      <td>0.000000</td>\n",
       "      <td>0.000000e+00</td>\n",
       "      <td>0.000000</td>\n",
       "      <td>0.008000</td>\n",
       "      <td>0.000000</td>\n",
       "      <td>0.000000</td>\n",
       "      <td>0.000000</td>\n",
       "      <td>0.000000</td>\n",
       "    </tr>\n",
       "    <tr>\n",
       "      <th>50%</th>\n",
       "      <td>0.000000</td>\n",
       "      <td>1.000000</td>\n",
       "      <td>0.000000</td>\n",
       "      <td>0.000000</td>\n",
       "      <td>0.000000</td>\n",
       "      <td>5.000000</td>\n",
       "      <td>4.000000</td>\n",
       "      <td>2.000000</td>\n",
       "      <td>3.000000</td>\n",
       "      <td>1.000000</td>\n",
       "      <td>...</td>\n",
       "      <td>0.000000</td>\n",
       "      <td>0.000000e+00</td>\n",
       "      <td>1.000000</td>\n",
       "      <td>0.000000e+00</td>\n",
       "      <td>0.000000</td>\n",
       "      <td>0.284723</td>\n",
       "      <td>0.006000</td>\n",
       "      <td>0.000000</td>\n",
       "      <td>0.000000</td>\n",
       "      <td>0.000000</td>\n",
       "    </tr>\n",
       "    <tr>\n",
       "      <th>75%</th>\n",
       "      <td>0.000000</td>\n",
       "      <td>2.000000</td>\n",
       "      <td>0.000000</td>\n",
       "      <td>0.000000</td>\n",
       "      <td>0.000000</td>\n",
       "      <td>12.000000</td>\n",
       "      <td>12.000000</td>\n",
       "      <td>7.000000</td>\n",
       "      <td>9.000000</td>\n",
       "      <td>5.000000</td>\n",
       "      <td>...</td>\n",
       "      <td>0.000000</td>\n",
       "      <td>0.000000e+00</td>\n",
       "      <td>1.000000</td>\n",
       "      <td>2.511184e+03</td>\n",
       "      <td>114.753348</td>\n",
       "      <td>55.205806</td>\n",
       "      <td>50.933127</td>\n",
       "      <td>0.065151</td>\n",
       "      <td>0.023235</td>\n",
       "      <td>0.038951</td>\n",
       "    </tr>\n",
       "    <tr>\n",
       "      <th>max</th>\n",
       "      <td>1.000000</td>\n",
       "      <td>6.000000</td>\n",
       "      <td>30.000000</td>\n",
       "      <td>4.000000</td>\n",
       "      <td>4.000000</td>\n",
       "      <td>63.000000</td>\n",
       "      <td>62.000000</td>\n",
       "      <td>51.000000</td>\n",
       "      <td>60.000000</td>\n",
       "      <td>51.000000</td>\n",
       "      <td>...</td>\n",
       "      <td>172.000000</td>\n",
       "      <td>6.558056e+06</td>\n",
       "      <td>1.000000</td>\n",
       "      <td>1.460480e+06</td>\n",
       "      <td>289388.269700</td>\n",
       "      <td>84371.496000</td>\n",
       "      <td>56716.824000</td>\n",
       "      <td>2.518893</td>\n",
       "      <td>2.100352</td>\n",
       "      <td>1.520884</td>\n",
       "    </tr>\n",
       "  </tbody>\n",
       "</table>\n",
       "<p>8 rows × 40 columns</p>\n",
       "</div>"
      ],
      "text/plain": [
       "       is_sm_ips_ports   ct_state_ttl  ct_flw_http_mthd   is_ftp_login  \\\n",
       "count    166595.000000  166706.000000     166694.000000  166694.000000   \n",
       "mean          0.015799       1.303852          0.132722       0.014974   \n",
       "std           0.124697       0.954779          0.692019       0.126338   \n",
       "min           0.000000       0.000000          0.000000       0.000000   \n",
       "25%           0.000000       1.000000          0.000000       0.000000   \n",
       "50%           0.000000       1.000000          0.000000       0.000000   \n",
       "75%           0.000000       2.000000          0.000000       0.000000   \n",
       "max           1.000000       6.000000         30.000000       4.000000   \n",
       "\n",
       "          ct_ftp_cmd     ct_srv_src     ct_srv_dst     ct_dst_ltm  \\\n",
       "count  166499.000000  166490.000000  166567.000000  166603.000000   \n",
       "mean        0.014961       9.304415       9.104384       6.191773   \n",
       "std         0.125771      10.699782      10.758098       8.050067   \n",
       "min         0.000000       1.000000       1.000000       1.000000   \n",
       "25%         0.000000       2.000000       2.000000       1.000000   \n",
       "50%         0.000000       5.000000       4.000000       2.000000   \n",
       "75%         0.000000      12.000000      12.000000       7.000000   \n",
       "max         4.000000      63.000000      62.000000      51.000000   \n",
       "\n",
       "          ct_src_ltm  ct_src_dport_ltm  ...    trans_depth  response_body_len  \\\n",
       "count  166518.000000     166566.000000  ...  166556.000000       1.665500e+05   \n",
       "mean        6.952450          5.388116  ...       0.106193       2.157133e+03   \n",
       "std         8.318103          8.044942  ...       0.794070       5.509898e+04   \n",
       "min         1.000000          1.000000  ...       0.000000       0.000000e+00   \n",
       "25%         2.000000          1.000000  ...       0.000000       0.000000e+00   \n",
       "50%         3.000000          1.000000  ...       0.000000       0.000000e+00   \n",
       "75%         9.000000          5.000000  ...       0.000000       0.000000e+00   \n",
       "max        60.000000         51.000000  ...     172.000000       6.558056e+06   \n",
       "\n",
       "               label          sjit           djit         sinpkt  \\\n",
       "count  175341.000000  1.666030e+05  166495.000000  166634.000000   \n",
       "mean        0.680622  4.993982e+03     604.891720     987.360974   \n",
       "std         0.466237  4.506783e+04    4082.439167    7246.462797   \n",
       "min         0.000000  0.000000e+00       0.000000       0.000000   \n",
       "25%         0.000000  0.000000e+00       0.000000       0.008000   \n",
       "50%         1.000000  0.000000e+00       0.000000       0.284723   \n",
       "75%         1.000000  2.511184e+03     114.753348      55.205806   \n",
       "max         1.000000  1.460480e+06  289388.269700   84371.496000   \n",
       "\n",
       "              dinpkt         tcprtt         synack         ackdat  \n",
       "count  166607.000000  166505.000000  166605.000000  166746.000000  \n",
       "mean       87.763617       0.041331       0.021042       0.020402  \n",
       "std       987.040024       0.079428       0.043560       0.040619  \n",
       "min         0.000000       0.000000       0.000000       0.000000  \n",
       "25%         0.000000       0.000000       0.000000       0.000000  \n",
       "50%         0.006000       0.000000       0.000000       0.000000  \n",
       "75%        50.933127       0.065151       0.023235       0.038951  \n",
       "max     56716.824000       2.518893       2.100352       1.520884  \n",
       "\n",
       "[8 rows x 40 columns]"
      ]
     },
     "execution_count": 118,
     "metadata": {},
     "output_type": "execute_result"
    }
   ],
   "source": [
    "df_train.describe()"
   ]
  },
  {
   "cell_type": "code",
   "execution_count": 119,
   "metadata": {},
   "outputs": [
    {
     "data": {
      "image/png": "[encoded data removed]",
      "text/plain": [
       "<Figure size 1000x500 with 1 Axes>"
      ]
     },
     "metadata": {},
     "output_type": "display_data"
    }
   ],
   "source": [
    "import seaborn as sns\n",
    "import matplotlib.pyplot as plt\n",
    "\n",
    "plt.figure(figsize=(10, 5))\n",
    "sns.countplot(x='attack_cat', data=df_train)\n",
    "plt.xticks(rotation=45)\n",
    "plt.title('Distribusi Kelas Target (attack_cat)')\n",
    "plt.show()\n"
   ]
  },
  {
   "cell_type": "markdown",
   "metadata": {
    "id": "gvx-gT3bLfHM"
   },
   "source": [
    "# 1. Split Training Set and Validation Set\n",
    "\n",
    "Splitting the training and validation set works as an early diagnostic towards the performance of the model we train. This is done before the preprocessing steps to **avoid data leakage inbetween the sets**. If you want to use k-fold cross-validation, split the data later and do the cleaning and preprocessing separately for each split.\n",
    "\n",
    "Note: For training, you should use the data contained in the `train` folder given by the TA. The `test` data is only used for kaggle submission."
   ]
  },
  {
   "cell_type": "code",
   "execution_count": 89,
   "metadata": {
    "id": "4yWCUFFBLfHM"
   },
   "outputs": [],
   "source": [
    "X = df_train.drop(['attack_cat', 'label'], axis=1)\n",
    "y = df_train[['attack_cat']]\n",
    "\n",
    "X_train, X_val, y_train, y_val = train_test_split(X, y,test_size=0.01,random_state=42,stratify=y)"
   ]
  },
  {
   "cell_type": "markdown",
   "metadata": {
    "id": "IC14lmo_LfHN"
   },
   "source": [
    "# 2. Data Cleaning and Preprocessing\n",
    "\n",
    "This step is the first thing to be done once a Data Scientist have grasped a general knowledge of the data. Raw data is **seldom ready for training**, therefore steps need to be taken to clean and format the data for the Machine Learning model to interpret.\n",
    "\n",
    "By performing data cleaning and preprocessing, you ensure that your dataset is ready for model training, leading to more accurate and reliable machine learning results. These steps are essential for transforming raw data into a format that machine learning algorithms can effectively learn from and make predictions.\n",
    "\n",
    "We will give some common methods for you to try, but you only have to **at least implement one method for each process**. For each step that you will do, **please explain the reason why did you do that process. Write it in a markdown cell under the code cell you wrote.**"
   ]
  },
  {
   "cell_type": "markdown",
   "metadata": {
    "id": "p95_A8hSLfHY"
   },
   "source": [
    "## A. Data Cleaning\n",
    "\n",
    "**Data cleaning** is the crucial first step in preparing your dataset for machine learning. Raw data collected from various sources is often messy and may contain errors, missing values, and inconsistencies. Data cleaning involves the following steps:\n",
    "\n",
    "1. **Handling Missing Data:** Identify and address missing values in the dataset. This can include imputing missing values, removing rows or columns with excessive missing data, or using more advanced techniques like interpolation.\n",
    "\n",
    "2. **Dealing with Outliers:** Identify and handle outliers, which are data points significantly different from the rest of the dataset. Outliers can be removed or transformed to improve model performance.\n",
    "\n",
    "3. **Data Validation:** Check for data integrity and consistency. Ensure that data types are correct, categorical variables have consistent labels, and numerical values fall within expected ranges.\n",
    "\n",
    "4. **Removing Duplicates:** Identify and remove duplicate rows, as they can skew the model's training process and evaluation metrics.\n",
    "\n",
    "5. **Feature Engineering**: Create new features or modify existing ones to extract relevant information. This step can involve scaling, normalizing, or encoding features for better model interpretability."
   ]
  },
  {
   "cell_type": "markdown",
   "metadata": {
    "id": "_wruGao9LfHZ"
   },
   "source": [
    "### I. Handling Missing Data\n",
    "\n",
    "Missing data can adversely affect the performance and accuracy of machine learning models. There are several strategies to handle missing data in machine learning:\n",
    "\n",
    "1. **Data Imputation:**\n",
    "\n",
    "    a. **Mean, Median, or Mode Imputation:** For numerical features, you can replace missing values with the mean, median, or mode of the non-missing values in the same feature. This method is simple and often effective when data is missing at random.\n",
    "\n",
    "    b. **Constant Value Imputation:** You can replace missing values with a predefined constant value (e.g., 0) if it makes sense for your dataset and problem.\n",
    "\n",
    "    c. **Imputation Using Predictive Models:** More advanced techniques involve using predictive models to estimate missing values. For example, you can train a regression model to predict missing numerical values or a classification model to predict missing categorical values.\n",
    "\n",
    "2. **Deletion of Missing Data:**\n",
    "\n",
    "    a. **Listwise Deletion:** In cases where the amount of missing data is relatively small, you can simply remove rows with missing values from your dataset. However, this approach can lead to a loss of valuable information.\n",
    "\n",
    "    b. **Column (Feature) Deletion:** If a feature has a large number of missing values and is not critical for your analysis, you can consider removing that feature altogether.\n",
    "\n",
    "3. **Domain-Specific Strategies:**\n",
    "\n",
    "    a. **Domain Knowledge:** In some cases, domain knowledge can guide the imputation process. For example, if you know that missing values are related to a specific condition, you can impute them accordingly.\n",
    "\n",
    "4. **Imputation Libraries:**\n",
    "\n",
    "    a. **Scikit-Learn:** Scikit-Learn provides a `SimpleImputer` class that can handle basic imputation strategies like mean, median, and mode imputation.\n",
    "\n",
    "    b. **Fancyimpute:** Fancyimpute is a Python library that offers more advanced imputation techniques, including matrix factorization, k-nearest neighbors, and deep learning-based methods.\n",
    "\n",
    "The choice of imputation method should be guided by the nature of your data, the amount of missing data, the problem you are trying to solve, and the assumptions you are willing to make."
   ]
  },
  {
   "cell_type": "code",
   "execution_count": 90,
   "metadata": {
    "id": "ucZNfCkiLfHZ"
   },
   "outputs": [],
   "source": [
    "# Write your code here"
   ]
  },
  {
   "cell_type": "markdown",
   "metadata": {
    "id": "zgrSMcK75VY_"
   },
   "source": [
    "### II. Dealing with Outliers\n",
    "\n",
    "Outliers are data points that significantly differ from the majority of the data. They can be unusually high or low values that do not fit the pattern of the rest of the dataset. Outliers can significantly impact model performance, so it is important to handle them properly.\n",
    "\n",
    "Some methods to handle outliers:\n",
    "1. **Imputation**: Replace with mean, median, or a boundary value.\n",
    "2. **Clipping**: Cap values to upper and lower limits.\n",
    "3. **Transformation**: Use log, square root, or power transformations to reduce their influence.\n",
    "4. **Model-Based**: Use algorithms robust to outliers (e.g., tree-based models, Huber regression)."
   ]
  },
  {
   "cell_type": "code",
   "execution_count": 91,
   "metadata": {
    "id": "CgbZ6Lv17Uf0"
   },
   "outputs": [],
   "source": [
    "# Write your code here"
   ]
  },
  {
   "cell_type": "markdown",
   "metadata": {
    "id": "aO0ZEZ-s6Lu-"
   },
   "source": [
    "### III. Remove Duplicates\n",
    "Handling duplicate values is crucial because they can compromise data integrity, leading to inaccurate analysis and insights. Duplicate entries can bias machine learning models, causing overfitting and reducing their ability to generalize to new data. They also inflate the dataset size unnecessarily, increasing computational costs and processing times. Additionally, duplicates can distort statistical measures and lead to inconsistencies, ultimately affecting the reliability of data-driven decisions and reporting. Ensuring data quality by removing duplicates is essential for accurate, efficient, and consistent analysis."
   ]
  },
  {
   "cell_type": "code",
   "execution_count": 92,
   "metadata": {
    "id": "BHCkkZ-v7iF8"
   },
   "outputs": [
    {
     "name": "stdout",
     "output_type": "stream",
     "text": [
      "Jumlah data training yang duplikat:  0\n"
     ]
    }
   ],
   "source": [
    "print(\"Jumlah data training yang duplikat: \", df_train.duplicated().sum())"
   ]
  },
  {
   "cell_type": "markdown",
   "metadata": {
    "id": "eycPASmMLfHa"
   },
   "source": [
    "### IV. Feature Engineering\n",
    "\n",
    "**Feature engineering** involves creating new features (input variables) or transforming existing ones to improve the performance of machine learning models. Feature engineering aims to enhance the model's ability to learn patterns and make accurate predictions from the data. It's often said that \"good features make good models.\"\n",
    "\n",
    "1. **Feature Selection:** Feature engineering can involve selecting the most relevant and informative features from the dataset. Removing irrelevant or redundant features not only simplifies the model but also reduces the risk of overfitting.\n",
    "\n",
    "2. **Creating New Features:** Sometimes, the existing features may not capture the underlying patterns effectively. In such cases, engineers create new features that provide additional information. For example:\n",
    "   \n",
    "   - **Polynomial Features:** Engineers may create new features by taking the square, cube, or other higher-order terms of existing numerical features. This can help capture nonlinear relationships.\n",
    "   \n",
    "   - **Interaction Features:** Interaction features are created by combining two or more existing features. For example, if you have features \"length\" and \"width,\" you can create an \"area\" feature by multiplying them.\n",
    "\n",
    "3. **Binning or Discretization:** Continuous numerical features can be divided into bins or categories. For instance, age values can be grouped into bins like \"child,\" \"adult,\" and \"senior.\"\n",
    "\n",
    "4. **Domain-Specific Feature Engineering:** Depending on the domain and problem, engineers may create domain-specific features. For example, in fraud detection, features related to transaction history and user behavior may be engineered to identify anomalies.\n",
    "\n",
    "Feature engineering is both a creative and iterative process. It requires a deep understanding of the data, domain knowledge, and experimentation to determine which features will enhance the model's predictive power."
   ]
  },
  {
   "cell_type": "code",
   "execution_count": 93,
   "metadata": {
    "id": "UoXEV6wkLfHa"
   },
   "outputs": [],
   "source": [
    "# Write your code here"
   ]
  },
  {
   "cell_type": "markdown",
   "metadata": {
    "id": "xw11_49xLfHb"
   },
   "source": [
    "## B. Data Preprocessing\n",
    "\n",
    "**Data preprocessing** is a broader step that encompasses both data cleaning and additional transformations to make the data suitable for machine learning algorithms. Its primary goals are:\n",
    "\n",
    "1. **Feature Scaling:** Ensure that numerical features have similar scales. Common techniques include Min-Max scaling (scaling to a specific range) or standardization (mean-centered, unit variance).\n",
    "\n",
    "2. **Encoding Categorical Variables:** Machine learning models typically work with numerical data, so categorical variables need to be encoded. This can be done using one-hot encoding, label encoding, or more advanced methods like target encoding.\n",
    "\n",
    "3. **Handling Imbalanced Classes:** If dealing with imbalanced classes in a binary classification task, apply techniques such as oversampling, undersampling, or using different evaluation metrics to address class imbalance.\n",
    "\n",
    "4. **Dimensionality Reduction:** Reduce the number of features using techniques like Principal Component Analysis (PCA) or feature selection to simplify the model and potentially improve its performance.\n",
    "\n",
    "5. **Normalization:** Normalize data to achieve a standard distribution. This is particularly important for algorithms that assume normally distributed data."
   ]
  },
  {
   "cell_type": "markdown",
   "metadata": {
    "id": "rVyVnA1hLfHd"
   },
   "source": [
    "### Notes on Preprocessing processes\n",
    "\n",
    "It is advised to create functions or classes that have the same/similar type of inputs and outputs, so you can add, remove, or swap the order of the processes easily. You can implement the functions or classes by yourself\n",
    "\n",
    "or\n",
    "\n",
    "use `sklearn` library. To create a new preprocessing component in `sklearn`, implement a corresponding class that includes:\n",
    "1. Inheritance to `BaseEstimator` and `TransformerMixin`\n",
    "2. The method `fit`\n",
    "3. The method `transform`"
   ]
  },
  {
   "cell_type": "code",
   "execution_count": 10,
   "metadata": {
    "id": "WbxHt-5eKz_I"
   },
   "outputs": [],
   "source": []
  },
  {
   "cell_type": "markdown",
   "metadata": {
    "id": "WhCgOl4xLfHb"
   },
   "source": [
    "### I. Feature Scaling\n",
    "\n",
    "**Feature scaling** is a preprocessing technique used in machine learning to standardize the range of independent variables or features of data. The primary goal of feature scaling is to ensure that all features contribute equally to the training process and that machine learning algorithms can work effectively with the data.\n",
    "\n",
    "Here are the main reasons why feature scaling is important:\n",
    "\n",
    "1. **Algorithm Sensitivity:** Many machine learning algorithms are sensitive to the scale of input features. If the scales of features are significantly different, some algorithms may perform poorly or take much longer to converge.\n",
    "\n",
    "2. **Distance-Based Algorithms:** Algorithms that rely on distances or similarities between data points, such as k-nearest neighbors (KNN) and support vector machines (SVM), can be influenced by feature scales. Features with larger scales may dominate the distance calculations.\n",
    "\n",
    "3. **Regularization:** Regularization techniques, like L1 (Lasso) and L2 (Ridge) regularization, add penalty terms based on feature coefficients. Scaling ensures that all features are treated equally in the regularization process.\n",
    "\n",
    "Common methods for feature scaling include:\n",
    "\n",
    "1. **Min-Max Scaling (Normalization):** This method scales features to a specific range, typically [0, 1]. It's done using the following formula:\n",
    "\n",
    "   $$X' = \\frac{X - X_{min}}{X_{max} - X_{min}}$$\n",
    "\n",
    "   - Here, $X$ is the original feature value, $X_{min}$ is the minimum value of the feature, and $X_{max}$ is the maximum value of the feature.  \n",
    "<br />\n",
    "<br />\n",
    "2. **Standardization (Z-score Scaling):** This method scales features to have a mean (average) of 0 and a standard deviation of 1. It's done using the following formula:\n",
    "\n",
    "   $$X' = \\frac{X - \\mu}{\\sigma}$$\n",
    "\n",
    "   - $X$ is the original feature value, $\\mu$ is the mean of the feature, and $\\sigma$ is the standard deviation of the feature.  \n",
    "<br />\n",
    "<br />\n",
    "3. **Robust Scaling:** Robust scaling is a method that scales features to the interquartile range (IQR) and is less affected by outliers. It's calculated as:\n",
    "\n",
    "   $$X' = \\frac{X - Q1}{Q3 - Q1}$$\n",
    "\n",
    "   - $X$ is the original feature value, $Q1$ is the first quartile (25th percentile), and $Q3$ is the third quartile (75th percentile) of the feature.  \n",
    "<br />\n",
    "<br />\n",
    "4. **Log Transformation:** In cases where data is highly skewed or has a heavy-tailed distribution, taking the logarithm of the feature values can help stabilize the variance and improve scaling.\n",
    "\n",
    "The choice of scaling method depends on the characteristics of your data and the requirements of your machine learning algorithm. **Min-max scaling and standardization are the most commonly used techniques and work well for many datasets.**\n",
    "\n",
    "Scaling should be applied separately to each training and test set to prevent data leakage from the test set into the training set. Additionally, **some algorithms may not require feature scaling, particularly tree-based models.**"
   ]
  },
  {
   "cell_type": "code",
   "execution_count": 94,
   "metadata": {
    "id": "COef9EbCLfHb"
   },
   "outputs": [],
   "source": [
    "# Write your code here"
   ]
  },
  {
   "cell_type": "markdown",
   "metadata": {
    "id": "f_Lh-4JwLfHc"
   },
   "source": [
    "### II. Feature Encoding\n",
    "\n",
    "**Feature encoding**, also known as **categorical encoding**, is the process of converting categorical data (non-numeric data) into a numerical format so that it can be used as input for machine learning algorithms. Most machine learning models require numerical data for training and prediction, so feature encoding is a critical step in data preprocessing.\n",
    "\n",
    "Categorical data can take various forms, including:\n",
    "\n",
    "1. **Nominal Data:** Categories with no intrinsic order, like colors or country names.  \n",
    "\n",
    "2. **Ordinal Data:** Categories with a meaningful order but not necessarily equidistant, like education levels (e.g., \"high school,\" \"bachelor's,\" \"master's\").\n",
    "\n",
    "There are several common methods for encoding categorical data:\n",
    "\n",
    "1. **Label Encoding:**\n",
    "\n",
    "   - Label encoding assigns a unique integer to each category in a feature.\n",
    "   - It's suitable for ordinal data where there's a clear order among categories.\n",
    "   - For example, if you have an \"education\" feature with values \"high school,\" \"bachelor's,\" and \"master's,\" you can encode them as 0, 1, and 2, respectively.\n",
    "<br />\n",
    "<br />\n",
    "2. **One-Hot Encoding:**\n",
    "\n",
    "   - One-hot encoding creates a binary (0 or 1) column for each category in a nominal feature.\n",
    "   - It's suitable for nominal data where there's no inherent order among categories.\n",
    "   - Each category becomes a new feature, and the presence (1) or absence (0) of a category is indicated for each row.\n",
    "<br />\n",
    "<br />\n",
    "3. **Target Encoding (Mean Encoding):**\n",
    "\n",
    "   - Target encoding replaces each category with the mean of the target variable for that category.\n",
    "   - It's often used for classification problems."
   ]
  },
  {
   "cell_type": "code",
   "execution_count": null,
   "metadata": {
    "id": "psElSUugLfHc"
   },
   "outputs": [],
   "source": []
  },
  {
   "cell_type": "markdown",
   "metadata": {
    "id": "jKQO9wtB8Pc0"
   },
   "source": [
    "### III. Handling Imbalanced Dataset\n",
    "\n",
    "**Handling imbalanced datasets** is important because imbalanced data can lead to several issues that negatively impact the performance and reliability of machine learning models. Here are some key reasons:\n",
    "\n",
    "1. **Biased Model Performance**:\n",
    "\n",
    " - Models trained on imbalanced data tend to be biased towards the majority class, leading to poor performance on the minority class. This can result in misleading accuracy metrics.\n",
    "\n",
    "2. **Misleading Accuracy**:\n",
    "\n",
    " - High overall accuracy can be misleading in imbalanced datasets. For example, if 95% of the data belongs to one class, a model that always predicts the majority class will have 95% accuracy but will fail to identify the minority class.\n",
    "\n",
    "3. **Poor Generalization**:\n",
    "\n",
    " - Models trained on imbalanced data may not generalize well to new, unseen data, especially if the minority class is underrepresented.\n",
    "\n",
    "\n",
    "Some methods to handle imbalanced datasets:\n",
    "1. **Resampling Methods**:\n",
    "\n",
    " - Oversampling: Increase the number of instances in the minority class by duplicating or generating synthetic samples (e.g., SMOTE).\n",
    " - Undersampling: Reduce the number of instances in the majority class to balance the dataset.\n",
    "\n",
    "2. **Evaluation Metrics**:\n",
    "\n",
    " - Use appropriate evaluation metrics such as precision, recall, F1-score, ROC-AUC, and confusion matrix instead of accuracy to better assess model performance on imbalanced data.\n",
    "\n",
    "3. **Algorithmic Approaches**:\n",
    "\n",
    " - Use algorithms that are designed to handle imbalanced data, such as decision trees, random forests, or ensemble methods.\n",
    " - Adjust class weights in algorithms to give more importance to the minority class."
   ]
  },
  {
   "cell_type": "code",
   "execution_count": 95,
   "metadata": {
    "id": "u2BQd2XJ9W1i"
   },
   "outputs": [],
   "source": [
    "# Write your code here"
   ]
  },
  {
   "cell_type": "markdown",
   "metadata": {
    "id": "fTMSyUzf_-HQ"
   },
   "source": [
    "### IV. Data Normalization\n",
    "\n",
    "Data normalization is used to achieve a standard distribution. Without normalization, models or processes that rely on the assumption of normality may not work correctly. Normalization helps reduce the magnitude effect and ensures numerical stability during optimization."
   ]
  },
  {
   "cell_type": "code",
   "execution_count": 96,
   "metadata": {
    "id": "HLOWHftjF1JU"
   },
   "outputs": [],
   "source": [
    "# Write your code here"
   ]
  },
  {
   "cell_type": "markdown",
   "metadata": {
    "id": "MSZPZSntF3Kb"
   },
   "source": [
    "### V. Dimensionality Reduction\n",
    "\n",
    "Dimensionality reduction is a technique used in data preprocessing to reduce the number of input features (dimensions) in a dataset while retaining as much important information as possible. It is essential when dealing with high-dimensional data, where too many features can cause problems like increased computational costs, overfitting, and difficulty in visualization. Reducing dimensions simplifies the data, making it easier to analyze and improving the performance of machine learning models.\n",
    "\n",
    "One of the main approaches to dimensionality reduction is feature extraction. Feature extraction creates new, smaller sets of features that capture the essence of the original data. Common techniques include:\n",
    "\n",
    "1. **Principal Component Analysis (PCA)**: Converts correlated features into a smaller number of uncorrelated \"principal components.\"\n",
    "2. **t-SNE (t-Distributed Stochastic Neighbor Embedding)**: A visualization-focused method to project high-dimensional data into 2D or 3D spaces.\n",
    "3. **Autoencoders**: Neural networks that learn compressed representations of the data."
   ]
  },
  {
   "cell_type": "code",
   "execution_count": 97,
   "metadata": {
    "id": "5rksSMAWICY_"
   },
   "outputs": [],
   "source": [
    "# Write your code here"
   ]
  },
  {
   "cell_type": "markdown",
   "metadata": {
    "id": "-ctVzt5DLfHd"
   },
   "source": [
    "# 3. Compile Preprocessing Pipeline\n",
    "\n",
    "All of the preprocessing classes or functions defined earlier will be compiled in this step."
   ]
  },
  {
   "cell_type": "markdown",
   "metadata": {
    "id": "S_ZlncSVjJG6"
   },
   "source": [
    "If you use sklearn to create preprocessing classes, you can list your preprocessing classes in the Pipeline object sequentially, and then fit and transform your data."
   ]
  },
  {
   "cell_type": "code",
   "execution_count": 98,
   "metadata": {
    "id": "jHraoW_7LfHd"
   },
   "outputs": [
    {
     "name": "stderr",
     "output_type": "stream",
     "text": [
      "C:\\Users\\Jimly\\AppData\\Local\\Packages\\PythonSoftwareFoundation.Python.3.12_qbz5n2kfra8p0\\LocalCache\\local-packages\\Python312\\site-packages\\sklearn\\base.py:474: FutureWarning: `BaseEstimator._validate_data` is deprecated in 1.6 and will be removed in 1.7. Use `sklearn.utils.validation.validate_data` instead. This function becomes public and is part of the scikit-learn developer API.\n",
      "  warnings.warn(\n",
      "C:\\Users\\Jimly\\AppData\\Local\\Packages\\PythonSoftwareFoundation.Python.3.12_qbz5n2kfra8p0\\LocalCache\\local-packages\\Python312\\site-packages\\sklearn\\utils\\_tags.py:354: FutureWarning: The SMOTE or classes from which it inherits use `_get_tags` and `_more_tags`. Please define the `__sklearn_tags__` method, or inherit from `sklearn.base.BaseEstimator` and/or other appropriate mixins such as `sklearn.base.TransformerMixin`, `sklearn.base.ClassifierMixin`, `sklearn.base.RegressorMixin`, and `sklearn.base.OutlierMixin`. From scikit-learn 1.7, not defining `__sklearn_tags__` will raise an error.\n",
      "  warnings.warn(\n"
     ]
    }
   ],
   "source": [
    "import pandas as pd\n",
    "import numpy as np\n",
    "from sklearn.model_selection import train_test_split\n",
    "from sklearn.impute import SimpleImputer\n",
    "from sklearn.preprocessing import OneHotEncoder, StandardScaler\n",
    "from sklearn.neighbors import KNeighborsClassifier\n",
    "from sklearn.metrics import classification_report, accuracy_score\n",
    "from sklearn.feature_selection import SelectKBest, f_classif\n",
    "from imblearn.over_sampling import SMOTE\n",
    "\n",
    "# Global variables for reusing transformers\n",
    "numerical_imputer = SimpleImputer(strategy='mean')\n",
    "categorical_imputer = SimpleImputer(strategy='most_frequent')\n",
    "encoder = OneHotEncoder(handle_unknown='ignore', sparse_output=False)\n",
    "scaler = StandardScaler()\n",
    "selector = None\n",
    "selected_columns = None\n",
    "\n",
    "def preprocess_train_data(df, target_column, num_features_to_select=10):\n",
    "    \"\"\"Preprocess the training data: handle missing values, encode categorical variables,\n",
    "    scale numerical variables, apply feature selection, and oversample with SMOTE.\"\"\"\n",
    "    global numerical_imputer, categorical_imputer, encoder, scaler, selector, selected_columns\n",
    "\n",
    "    # Memisahkan fitur dan target\n",
    "    X = df.drop(columns=[target_column])\n",
    "    y = df[target_column]\n",
    "\n",
    "    # Memisahkan kolom numerikal dan kategorikal\n",
    "    numerical_features = X.select_dtypes(include=['int64', 'float64']).columns\n",
    "    categorical_features = X.select_dtypes(include=['object']).columns\n",
    "\n",
    "    # Handling missing values untuk fitur numerikal\n",
    "    X[numerical_features] = numerical_imputer.fit_transform(X[numerical_features])\n",
    "\n",
    "    # Handling missing values untuk fitur kategorikal\n",
    "    X[categorical_features] = categorical_imputer.fit_transform(X[categorical_features])\n",
    "\n",
    "    # One-hot encoding untuk fitur kategorikal\n",
    "    X_encoded = encoder.fit_transform(X[categorical_features])\n",
    "    categorical_encoded_columns = encoder.get_feature_names_out(categorical_features)\n",
    "    X_encoded_df = pd.DataFrame(X_encoded, columns=categorical_encoded_columns, index=X.index)\n",
    "\n",
    "    # Menggabungkan kembali data numerikal dan kategorikal yang sudah di-encode\n",
    "    X = pd.concat([X[numerical_features], X_encoded_df], axis=1)\n",
    "\n",
    "    # StandardScaler untuk fitur numerikal\n",
    "    X[numerical_features] = scaler.fit_transform(X[numerical_features])\n",
    "\n",
    "    # Feature selection menggunakan SelectKBest\n",
    "    selector = SelectKBest(score_func=f_classif, k=num_features_to_select)\n",
    "    X_selected = selector.fit_transform(X, y)\n",
    "    selected_columns = X.columns[selector.get_support()]\n",
    "    X = pd.DataFrame(X_selected, columns=selected_columns, index=X.index)\n",
    "\n",
    "    # SMOTE untuk menangani ketidakseimbangan data\n",
    "    smote = SMOTE(random_state=42)\n",
    "    X, y = smote.fit_resample(X, y)\n",
    "\n",
    "    return X, y\n",
    "\n",
    "def preprocess_validation_data(df):\n",
    "    \"\"\"Preprocess the validation data using the transformers fitted on training data.\"\"\"\n",
    "    global numerical_imputer, categorical_imputer, encoder, scaler, selector, selected_columns\n",
    "\n",
    "    # Memisahkan fitur\n",
    "    X = df\n",
    "\n",
    "    # Memisahkan kolom numerikal dan kategorikal\n",
    "    numerical_features = X.select_dtypes(include=['int64', 'float64']).columns\n",
    "    categorical_features = X.select_dtypes(include=['object']).columns\n",
    "\n",
    "    # Handling missing values untuk fitur numerikal\n",
    "    X[numerical_features] = numerical_imputer.transform(X[numerical_features])\n",
    "\n",
    "    # Handling missing values untuk fitur kategorikal\n",
    "    X[categorical_features] = categorical_imputer.transform(X[categorical_features])\n",
    "\n",
    "    # One-hot encoding untuk fitur kategorikal\n",
    "    X_encoded = encoder.transform(X[categorical_features])\n",
    "    categorical_encoded_columns = encoder.get_feature_names_out(categorical_features)\n",
    "    X_encoded_df = pd.DataFrame(X_encoded, columns=categorical_encoded_columns, index=X.index)\n",
    "\n",
    "    # Menggabungkan kembali data numerikal dan kategorikal yang sudah di-encode\n",
    "    X = pd.concat([X[numerical_features], X_encoded_df], axis=1)\n",
    "\n",
    "    # StandardScaler untuk fitur numerikal\n",
    "    X[numerical_features] = scaler.transform(X[numerical_features])\n",
    "\n",
    "    # Apply feature selection\n",
    "    X_selected = selector.transform(X)\n",
    "    X = pd.DataFrame(X_selected, columns=selected_columns, index=X.index)\n",
    "\n",
    "    return X\n",
    "\n",
    "\n",
    "# Preprocess training data\n",
    "X_train, y_train = preprocess_train_data(pd.concat([X_train, y_train], axis=1), 'attack_cat')\n",
    "\n",
    "# Preprocess validation data\n",
    "X_val = preprocess_validation_data(X_val)"
   ]
  },
  {
   "cell_type": "markdown",
   "metadata": {
    "id": "9A3adbZXLfHe"
   },
   "source": [
    "# 4. Modeling and Validation\n",
    "\n",
    "Modelling is the process of building your own machine learning models to solve specific problems, or in this assignment context, predicting the target feature `attack_cat`. Validation is the process of evaluating your trained model using the validation set or cross-validation method and providing some metrics that can help you decide what to do in the next iteration of development."
   ]
  },
  {
   "cell_type": "markdown",
   "metadata": {
    "id": "ZnhMNbBILfHf"
   },
   "source": [
    "## A. KNN"
   ]
  },
  {
   "cell_type": "code",
   "execution_count": 99,
   "metadata": {
    "id": "KV6ICmFmlqjk"
   },
   "outputs": [],
   "source": [
    "from sklearn.metrics import f1_score\n",
    "from scipy.sparse import issparse\n",
    "from scipy import sparse\n",
    "from collections import Counter\n",
    "\n",
    "class KNN:\n",
    "    def __init__(self, k=5, metric='euclidean'):\n",
    "        self.k = k\n",
    "        self.metric = metric\n",
    "        self.X_train = None\n",
    "        self.y_train = None\n",
    "\n",
    "    def _calculate_distances(self, point):\n",
    "        if issparse(point):\n",
    "            point = point.toarray().flatten()\n",
    "        if issparse(self.X_train):\n",
    "            X_train = self.X_train.toarray()\n",
    "        else:\n",
    "            X_train = self.X_train\n",
    "\n",
    "        if self.metric == 'euclidean':\n",
    "           return np.sqrt(np.sum((X_train - point) ** 2, axis=1))\n",
    "        elif self.metric == 'manhattan':\n",
    "            return np.sum(np.abs(X_train - point), axis=1)\n",
    "        elif self.metric == 'minkowski':\n",
    "            p = 3\n",
    "            return np.sum(np.abs(X_train - point) ** p, axis=1) ** (1/p)\n",
    "        else:\n",
    "            raise ValueError(f\"Error metric\")\n",
    "\n",
    "    def fit(self, X, y):\n",
    "        if isinstance(X, pd.DataFrame):\n",
    "           self.X_train = X.values\n",
    "        elif issparse(X):\n",
    "            self.X_train = X.toarray()\n",
    "        else:\n",
    "            self.X_train = np.array(X)\n",
    "\n",
    "        self.y_train = y.values if isinstance(y, pd.Series) else np.array(y)\n",
    "        return self\n",
    "\n",
    "    def predict(self, X):\n",
    "        if self.X_train is None or self.y_train is None:\n",
    "            raise ValueError(\"Error must fit\")\n",
    "        if isinstance(X, pd.DataFrame):\n",
    "           X = X.values\n",
    "        elif issparse(X):\n",
    "            X = X.toarray()\n",
    "        else:\n",
    "            X = np.array(X)\n",
    "\n",
    "        predictions = []\n",
    "        for point in X:\n",
    "            distances = self._calculate_distances(point)\n",
    "            nearest_indices = np.argsort(distances)[:self.k]\n",
    "            nearest_labels = self.y_train[nearest_indices]\n",
    "            prediction = Counter(nearest_labels).most_common(1)[0][0]\n",
    "            predictions.append(prediction)\n",
    "\n",
    "        return np.array(predictions)\n",
    "\n",
    "    def score(self, X, y):\n",
    "        predictions = self.predict(X)\n",
    "        y = y.values if isinstance(y, pd.Series) else np.array(y)\n",
    "        return f1_score(y, predictions, average='macro')"
   ]
  },
  {
   "cell_type": "code",
   "execution_count": 100,
   "metadata": {},
   "outputs": [
    {
     "name": "stdout",
     "output_type": "stream",
     "text": [
      "Accuracy:  0.6790193842645382\n",
      "                precision    recall  f1-score   support\n",
      "\n",
      "      Analysis       0.08      0.20      0.11        20\n",
      "      Backdoor       0.03      0.06      0.04        18\n",
      "           DoS       0.26      0.47      0.33       123\n",
      "      Exploits       0.65      0.37      0.47       334\n",
      "       Fuzzers       0.55      0.63      0.58       182\n",
      "       Generic       0.99      0.97      0.98       400\n",
      "        Normal       0.95      0.82      0.89       560\n",
      "Reconnaissance       0.41      0.31      0.36       105\n",
      "     Shellcode       0.09      0.45      0.15        11\n",
      "         Worms       0.03      1.00      0.06         1\n",
      "\n",
      "      accuracy                           0.68      1754\n",
      "     macro avg       0.40      0.53      0.40      1754\n",
      "  weighted avg       0.76      0.68      0.70      1754\n",
      "\n"
     ]
    }
   ],
   "source": [
    "# Membuat dan melatih model KNN\n",
    "knn = KNN(k=5,metric='manhattan')\n",
    "knn.fit(X_train, y_train)\n",
    "\n",
    "# Melakukan prediksi\n",
    "y_pred = knn.predict(X_val)\n",
    "\n",
    "print(\"Accuracy: \", accuracy_score(y_val, y_pred))\n",
    "\n",
    "# Evaluasi hasil\n",
    "print(classification_report(y_val, y_pred))"
   ]
  },
  {
   "cell_type": "code",
   "execution_count": 101,
   "metadata": {},
   "outputs": [
    {
     "name": "stdout",
     "output_type": "stream",
     "text": [
      "Accuracy:  0.6881413911060433\n",
      "                precision    recall  f1-score   support\n",
      "\n",
      "      Analysis       0.07      0.25      0.11        20\n",
      "      Backdoor       0.05      0.17      0.07        18\n",
      "           DoS       0.30      0.28      0.29       123\n",
      "      Exploits       0.64      0.44      0.52       334\n",
      "       Fuzzers       0.52      0.63      0.57       182\n",
      "       Generic       0.99      0.97      0.98       400\n",
      "        Normal       0.96      0.81      0.88       560\n",
      "Reconnaissance       0.39      0.55      0.46       105\n",
      "     Shellcode       0.03      0.09      0.04        11\n",
      "         Worms       0.09      1.00      0.17         1\n",
      "\n",
      "      accuracy                           0.69      1754\n",
      "     macro avg       0.40      0.52      0.41      1754\n",
      "  weighted avg       0.76      0.69      0.71      1754\n",
      "\n"
     ]
    }
   ],
   "source": [
    "# Membuat dan melatih model KNN\n",
    "knn = KNN(k=5,metric='euclidean')\n",
    "knn.fit(X_train, y_train)\n",
    "\n",
    "# Melakukan prediksi\n",
    "y_pred = knn.predict(X_val)\n",
    "\n",
    "print(\"Accuracy: \", accuracy_score(y_val, y_pred))\n",
    "\n",
    "# Evaluasi hasil\n",
    "print(classification_report(y_val, y_pred))"
   ]
  },
  {
   "cell_type": "code",
   "execution_count": 102,
   "metadata": {},
   "outputs": [
    {
     "name": "stdout",
     "output_type": "stream",
     "text": [
      "Accuracy:  0.6710376282782212\n",
      "                precision    recall  f1-score   support\n",
      "\n",
      "      Analysis       0.04      0.10      0.06        20\n",
      "      Backdoor       0.02      0.06      0.03        18\n",
      "           DoS       0.35      0.32      0.33       123\n",
      "      Exploits       0.60      0.43      0.50       334\n",
      "       Fuzzers       0.49      0.55      0.52       182\n",
      "       Generic       0.99      0.97      0.98       400\n",
      "        Normal       0.94      0.83      0.88       560\n",
      "Reconnaissance       0.37      0.30      0.34       105\n",
      "     Shellcode       0.10      0.55      0.17        11\n",
      "         Worms       0.02      1.00      0.03         1\n",
      "\n",
      "      accuracy                           0.67      1754\n",
      "     macro avg       0.39      0.51      0.38      1754\n",
      "  weighted avg       0.74      0.67      0.70      1754\n",
      "\n"
     ]
    }
   ],
   "source": [
    "# Membuat dan melatih model KNN\n",
    "knn = KNN(k=5,metric='minkowski')\n",
    "knn.fit(X_train, y_train)\n",
    "\n",
    "# Melakukan prediksi\n",
    "y_pred = knn.predict(X_val)\n",
    "\n",
    "print(\"Accuracy: \", accuracy_score(y_val, y_pred))\n",
    "\n",
    "# Evaluasi hasil\n",
    "print(classification_report(y_val, y_pred))"
   ]
  },
  {
   "cell_type": "code",
   "execution_count": 103,
   "metadata": {},
   "outputs": [
    {
     "data": {
      "text/html": [
       "<div>\n",
       "<style scoped>\n",
       "    .dataframe tbody tr th:only-of-type {\n",
       "        vertical-align: middle;\n",
       "    }\n",
       "\n",
       "    .dataframe tbody tr th {\n",
       "        vertical-align: top;\n",
       "    }\n",
       "\n",
       "    .dataframe thead th {\n",
       "        text-align: right;\n",
       "    }\n",
       "</style>\n",
       "<table border=\"1\" class=\"dataframe\">\n",
       "  <thead>\n",
       "    <tr style=\"text-align: right;\">\n",
       "      <th></th>\n",
       "      <th>ct_srv_src</th>\n",
       "      <th>ct_srv_dst</th>\n",
       "      <th>ct_dst_ltm</th>\n",
       "      <th>ct_src_ltm</th>\n",
       "      <th>ct_src_dport_ltm</th>\n",
       "      <th>ct_dst_sport_ltm</th>\n",
       "      <th>ct_dst_src_ltm</th>\n",
       "      <th>sttl</th>\n",
       "      <th>service_dns</th>\n",
       "      <th>proto_udp</th>\n",
       "    </tr>\n",
       "  </thead>\n",
       "  <tbody>\n",
       "    <tr>\n",
       "      <th>0</th>\n",
       "      <td>-0.029314</td>\n",
       "      <td>0.180621</td>\n",
       "      <td>-0.406769</td>\n",
       "      <td>-0.487535</td>\n",
       "      <td>-0.559655</td>\n",
       "      <td>-0.568204</td>\n",
       "      <td>-0.349606</td>\n",
       "      <td>-1.480269</td>\n",
       "      <td>0.0</td>\n",
       "      <td>1.0</td>\n",
       "    </tr>\n",
       "    <tr>\n",
       "      <th>1</th>\n",
       "      <td>1.025352</td>\n",
       "      <td>1.038803</td>\n",
       "      <td>1.250260</td>\n",
       "      <td>1.116604</td>\n",
       "      <td>1.353957</td>\n",
       "      <td>2.097892</td>\n",
       "      <td>1.055396</td>\n",
       "      <td>0.742254</td>\n",
       "      <td>1.0</td>\n",
       "      <td>1.0</td>\n",
       "    </tr>\n",
       "    <tr>\n",
       "      <th>2</th>\n",
       "      <td>-0.700466</td>\n",
       "      <td>-0.582207</td>\n",
       "      <td>-0.406769</td>\n",
       "      <td>-0.487535</td>\n",
       "      <td>0.000000</td>\n",
       "      <td>-0.568204</td>\n",
       "      <td>-0.630606</td>\n",
       "      <td>-1.480269</td>\n",
       "      <td>0.0</td>\n",
       "      <td>0.0</td>\n",
       "    </tr>\n",
       "    <tr>\n",
       "      <th>3</th>\n",
       "      <td>-0.796345</td>\n",
       "      <td>-0.772914</td>\n",
       "      <td>-0.661696</td>\n",
       "      <td>-0.610931</td>\n",
       "      <td>-0.559655</td>\n",
       "      <td>-0.568204</td>\n",
       "      <td>-0.630606</td>\n",
       "      <td>-1.171309</td>\n",
       "      <td>0.0</td>\n",
       "      <td>0.0</td>\n",
       "    </tr>\n",
       "    <tr>\n",
       "      <th>4</th>\n",
       "      <td>-0.796345</td>\n",
       "      <td>-0.772914</td>\n",
       "      <td>-0.661696</td>\n",
       "      <td>0.376232</td>\n",
       "      <td>-0.559655</td>\n",
       "      <td>-0.568204</td>\n",
       "      <td>-0.630606</td>\n",
       "      <td>0.742254</td>\n",
       "      <td>0.0</td>\n",
       "      <td>0.0</td>\n",
       "    </tr>\n",
       "  </tbody>\n",
       "</table>\n",
       "</div>"
      ],
      "text/plain": [
       "   ct_srv_src  ct_srv_dst  ct_dst_ltm  ct_src_ltm  ct_src_dport_ltm  \\\n",
       "0   -0.029314    0.180621   -0.406769   -0.487535         -0.559655   \n",
       "1    1.025352    1.038803    1.250260    1.116604          1.353957   \n",
       "2   -0.700466   -0.582207   -0.406769   -0.487535          0.000000   \n",
       "3   -0.796345   -0.772914   -0.661696   -0.610931         -0.559655   \n",
       "4   -0.796345   -0.772914   -0.661696    0.376232         -0.559655   \n",
       "\n",
       "   ct_dst_sport_ltm  ct_dst_src_ltm      sttl  service_dns  proto_udp  \n",
       "0         -0.568204       -0.349606 -1.480269          0.0        1.0  \n",
       "1          2.097892        1.055396  0.742254          1.0        1.0  \n",
       "2         -0.568204       -0.630606 -1.480269          0.0        0.0  \n",
       "3         -0.568204       -0.630606 -1.171309          0.0        0.0  \n",
       "4         -0.568204       -0.630606  0.742254          0.0        0.0  "
      ]
     },
     "execution_count": 103,
     "metadata": {},
     "output_type": "execute_result"
    }
   ],
   "source": [
    "X_train.head()"
   ]
  },
  {
   "cell_type": "code",
   "execution_count": 104,
   "metadata": {},
   "outputs": [
    {
     "data": {
      "text/plain": [
       "0      Normal\n",
       "1     Generic\n",
       "2      Normal\n",
       "3    Exploits\n",
       "4         DoS\n",
       "Name: attack_cat, dtype: object"
      ]
     },
     "execution_count": 104,
     "metadata": {},
     "output_type": "execute_result"
    }
   ],
   "source": [
    "y_train.head()"
   ]
  },
  {
   "cell_type": "code",
   "execution_count": 105,
   "metadata": {},
   "outputs": [
    {
     "data": {
      "text/html": [
       "<div>\n",
       "<style scoped>\n",
       "    .dataframe tbody tr th:only-of-type {\n",
       "        vertical-align: middle;\n",
       "    }\n",
       "\n",
       "    .dataframe tbody tr th {\n",
       "        vertical-align: top;\n",
       "    }\n",
       "\n",
       "    .dataframe thead th {\n",
       "        text-align: right;\n",
       "    }\n",
       "</style>\n",
       "<table border=\"1\" class=\"dataframe\">\n",
       "  <thead>\n",
       "    <tr style=\"text-align: right;\">\n",
       "      <th></th>\n",
       "      <th>ct_srv_src</th>\n",
       "      <th>ct_srv_dst</th>\n",
       "      <th>ct_dst_ltm</th>\n",
       "      <th>ct_src_ltm</th>\n",
       "      <th>ct_src_dport_ltm</th>\n",
       "      <th>ct_dst_sport_ltm</th>\n",
       "      <th>ct_dst_src_ltm</th>\n",
       "      <th>sttl</th>\n",
       "      <th>service_dns</th>\n",
       "      <th>proto_udp</th>\n",
       "    </tr>\n",
       "  </thead>\n",
       "  <tbody>\n",
       "    <tr>\n",
       "      <th>92480</th>\n",
       "      <td>-0.029314</td>\n",
       "      <td>-0.296146</td>\n",
       "      <td>-0.279305</td>\n",
       "      <td>-0.117349</td>\n",
       "      <td>-0.559655</td>\n",
       "      <td>-0.568204</td>\n",
       "      <td>-0.443273</td>\n",
       "      <td>-1.480269e+00</td>\n",
       "      <td>0.0</td>\n",
       "      <td>0.0</td>\n",
       "    </tr>\n",
       "    <tr>\n",
       "      <th>36489</th>\n",
       "      <td>2.367655</td>\n",
       "      <td>2.373751</td>\n",
       "      <td>3.799535</td>\n",
       "      <td>3.337721</td>\n",
       "      <td>3.650293</td>\n",
       "      <td>2.453371</td>\n",
       "      <td>2.366730</td>\n",
       "      <td>-2.832641e-16</td>\n",
       "      <td>1.0</td>\n",
       "      <td>1.0</td>\n",
       "    </tr>\n",
       "    <tr>\n",
       "      <th>174528</th>\n",
       "      <td>-0.796345</td>\n",
       "      <td>-0.772914</td>\n",
       "      <td>-0.661696</td>\n",
       "      <td>-0.734326</td>\n",
       "      <td>-0.559655</td>\n",
       "      <td>-0.568204</td>\n",
       "      <td>-0.724273</td>\n",
       "      <td>-1.171309e+00</td>\n",
       "      <td>0.0</td>\n",
       "      <td>0.0</td>\n",
       "    </tr>\n",
       "    <tr>\n",
       "      <th>26635</th>\n",
       "      <td>-0.412829</td>\n",
       "      <td>-0.582207</td>\n",
       "      <td>-0.406769</td>\n",
       "      <td>-0.487535</td>\n",
       "      <td>-0.432081</td>\n",
       "      <td>0.000000</td>\n",
       "      <td>-0.443273</td>\n",
       "      <td>-1.480269e+00</td>\n",
       "      <td>1.0</td>\n",
       "      <td>1.0</td>\n",
       "    </tr>\n",
       "    <tr>\n",
       "      <th>151719</th>\n",
       "      <td>-0.796345</td>\n",
       "      <td>-0.772914</td>\n",
       "      <td>-0.661696</td>\n",
       "      <td>-0.734326</td>\n",
       "      <td>-0.559655</td>\n",
       "      <td>-0.568204</td>\n",
       "      <td>-0.724273</td>\n",
       "      <td>7.422535e-01</td>\n",
       "      <td>0.0</td>\n",
       "      <td>1.0</td>\n",
       "    </tr>\n",
       "  </tbody>\n",
       "</table>\n",
       "</div>"
      ],
      "text/plain": [
       "        ct_srv_src  ct_srv_dst  ct_dst_ltm  ct_src_ltm  ct_src_dport_ltm  \\\n",
       "92480    -0.029314   -0.296146   -0.279305   -0.117349         -0.559655   \n",
       "36489     2.367655    2.373751    3.799535    3.337721          3.650293   \n",
       "174528   -0.796345   -0.772914   -0.661696   -0.734326         -0.559655   \n",
       "26635    -0.412829   -0.582207   -0.406769   -0.487535         -0.432081   \n",
       "151719   -0.796345   -0.772914   -0.661696   -0.734326         -0.559655   \n",
       "\n",
       "        ct_dst_sport_ltm  ct_dst_src_ltm          sttl  service_dns  proto_udp  \n",
       "92480          -0.568204       -0.443273 -1.480269e+00          0.0        0.0  \n",
       "36489           2.453371        2.366730 -2.832641e-16          1.0        1.0  \n",
       "174528         -0.568204       -0.724273 -1.171309e+00          0.0        0.0  \n",
       "26635           0.000000       -0.443273 -1.480269e+00          1.0        1.0  \n",
       "151719         -0.568204       -0.724273  7.422535e-01          0.0        1.0  "
      ]
     },
     "execution_count": 105,
     "metadata": {},
     "output_type": "execute_result"
    }
   ],
   "source": [
    "X_val.head()"
   ]
  },
  {
   "cell_type": "code",
   "execution_count": 106,
   "metadata": {},
   "outputs": [
    {
     "data": {
      "text/html": [
       "<div>\n",
       "<style scoped>\n",
       "    .dataframe tbody tr th:only-of-type {\n",
       "        vertical-align: middle;\n",
       "    }\n",
       "\n",
       "    .dataframe tbody tr th {\n",
       "        vertical-align: top;\n",
       "    }\n",
       "\n",
       "    .dataframe thead th {\n",
       "        text-align: right;\n",
       "    }\n",
       "</style>\n",
       "<table border=\"1\" class=\"dataframe\">\n",
       "  <thead>\n",
       "    <tr style=\"text-align: right;\">\n",
       "      <th></th>\n",
       "      <th>attack_cat</th>\n",
       "    </tr>\n",
       "  </thead>\n",
       "  <tbody>\n",
       "    <tr>\n",
       "      <th>92480</th>\n",
       "      <td>Normal</td>\n",
       "    </tr>\n",
       "    <tr>\n",
       "      <th>36489</th>\n",
       "      <td>Generic</td>\n",
       "    </tr>\n",
       "    <tr>\n",
       "      <th>174528</th>\n",
       "      <td>Exploits</td>\n",
       "    </tr>\n",
       "    <tr>\n",
       "      <th>26635</th>\n",
       "      <td>Normal</td>\n",
       "    </tr>\n",
       "    <tr>\n",
       "      <th>151719</th>\n",
       "      <td>Reconnaissance</td>\n",
       "    </tr>\n",
       "  </tbody>\n",
       "</table>\n",
       "</div>"
      ],
      "text/plain": [
       "            attack_cat\n",
       "92480           Normal\n",
       "36489          Generic\n",
       "174528        Exploits\n",
       "26635           Normal\n",
       "151719  Reconnaissance"
      ]
     },
     "execution_count": 106,
     "metadata": {},
     "output_type": "execute_result"
    }
   ],
   "source": [
    "y_val.head()"
   ]
  },
  {
   "cell_type": "markdown",
   "metadata": {},
   "source": [
    "### KNN Library"
   ]
  },
  {
   "cell_type": "code",
   "execution_count": 107,
   "metadata": {},
   "outputs": [
    {
     "name": "stdout",
     "output_type": "stream",
     "text": [
      "0.7303306727480046\n"
     ]
    }
   ],
   "source": [
    "from sklearn.neighbors import KNeighborsClassifier\n",
    "knn = KNeighborsClassifier(n_neighbors=5, metric='manhattan')\n",
    "\n",
    "# latih model\n",
    "knn.fit(X_train, y_train)\n",
    "\n",
    "print(knn.score(X_val, y_val))"
   ]
  },
  {
   "cell_type": "code",
   "execution_count": 108,
   "metadata": {},
   "outputs": [
    {
     "name": "stdout",
     "output_type": "stream",
     "text": [
      "0.7274800456100342\n"
     ]
    }
   ],
   "source": [
    "from sklearn.neighbors import KNeighborsClassifier\n",
    "knn = KNeighborsClassifier(n_neighbors=5, metric='euclidean')\n",
    "\n",
    "# latih model\n",
    "knn.fit(X_train, y_train)\n",
    "\n",
    "print(knn.score(X_val, y_val))"
   ]
  },
  {
   "cell_type": "code",
   "execution_count": 109,
   "metadata": {},
   "outputs": [
    {
     "name": "stdout",
     "output_type": "stream",
     "text": [
      "0.7274800456100342\n"
     ]
    }
   ],
   "source": [
    "from sklearn.neighbors import KNeighborsClassifier\n",
    "knn = KNeighborsClassifier(n_neighbors=5, metric='minkowski')\n",
    "\n",
    "# latih model\n",
    "knn.fit(X_train, y_train)\n",
    "\n",
    "print(knn.score(X_val, y_val))"
   ]
  },
  {
   "cell_type": "markdown",
   "metadata": {
    "id": "nW0bMzkDLfHf"
   },
   "source": [
    "## B. Naive Bayes"
   ]
  },
  {
   "cell_type": "code",
   "execution_count": 110,
   "metadata": {
    "id": "C_XwsN_-LfHg"
   },
   "outputs": [
    {
     "name": "stderr",
     "output_type": "stream",
     "text": [
      "C:\\Users\\Jimly\\AppData\\Local\\Temp\\ipykernel_14804\\4167031216.py:37: RuntimeWarning: divide by zero encountered in log\n",
      "  conditional = np.sum(np.log(self._gaussian_pdf(idx, x)))\n"
     ]
    },
    {
     "name": "stdout",
     "output_type": "stream",
     "text": [
      "Accuracy:  0.3050171037628278\n"
     ]
    }
   ],
   "source": [
    "class NaiveBayes:\n",
    "    def __init__(self):\n",
    "        self.classes = None\n",
    "        self.mean = None\n",
    "        self.variance = None\n",
    "        self.prior = None\n",
    "\n",
    "    def fit(self, X, y):\n",
    "        if sparse.issparse(X):\n",
    "            X = X.toarray()\n",
    "\n",
    "        self.classes = np.unique(y)\n",
    "        n_features = X.shape[1]\n",
    "        self.mean = np.zeros((len(self.classes), n_features))\n",
    "        self.variance = np.zeros((len(self.classes), n_features))\n",
    "        self.prior = np.zeros(len(self.classes))\n",
    "\n",
    "        epsilon = 1e-9\n",
    "\n",
    "        for idx, c in enumerate(self.classes):\n",
    "            X_c = X[y == c]\n",
    "            self.mean[idx, :] = X_c.mean(axis=0)\n",
    "            self.variance[idx, :] = X_c.var(axis=0) + epsilon\n",
    "            self.prior[idx] = X_c.shape[0] / X.shape[0]\n",
    "\n",
    "    def _gaussian_pdf(self, class_idx, x):\n",
    "        mean = self.mean[class_idx]\n",
    "        variance = self.variance[class_idx]\n",
    "        numerator = np.exp(-((x - mean) ** 2) / (2 * variance))\n",
    "        denominator = np.sqrt(2 * np.pi * variance)\n",
    "        return numerator / denominator\n",
    "\n",
    "    def _class_posterior(self, x):\n",
    "        posteriors = []\n",
    "        for idx, c in enumerate(self.classes):\n",
    "            prior = np.log(self.prior[idx])\n",
    "            conditional = np.sum(np.log(self._gaussian_pdf(idx, x)))\n",
    "            posterior = prior + conditional\n",
    "            posteriors.append(posterior)\n",
    "        return self.classes[np.argmax(posteriors)]\n",
    "    \n",
    "    def predict(self, X):\n",
    "        if sparse.issparse(X):\n",
    "            X = X.toarray()\n",
    "        if isinstance(X, pd.DataFrame):\n",
    "            X = X.to_numpy(dtype=np.float64)  # Pastikan tipe numerik\n",
    "        return np.array([self._class_posterior(x) for x in X])\n",
    "\n",
    "    def score(self, X, y):\n",
    "        predictions = self.predict(X)\n",
    "        y = y.values if isinstance(y, pd.Series) else np.array(y)\n",
    "        return f1_score(y, predictions, average='macro')\n",
    "    \n",
    "# Membuat dan melatih model KNN\n",
    "nb = NaiveBayes()\n",
    "nb.fit(X_train, y_train)\n",
    "\n",
    "# Melakukan prediksi\n",
    "y_pred = nb.predict(X_val)\n",
    "\n",
    "print(\"Accuracy: \", accuracy_score(y_val, y_pred))\n",
    "\n",
    "# Evaluasi hasil\n",
    "# print(classification_report(y_val, y_pred))"
   ]
  },
  {
   "cell_type": "markdown",
   "metadata": {},
   "source": [
    "### Naive Bayes with Libray"
   ]
  },
  {
   "cell_type": "code",
   "execution_count": 111,
   "metadata": {},
   "outputs": [
    {
     "name": "stdout",
     "output_type": "stream",
     "text": [
      "Accuracy nb library:  0.3050171037628278\n"
     ]
    }
   ],
   "source": [
    "from sklearn.naive_bayes import GaussianNB\n",
    "nblib = GaussianNB()\n",
    "nblib.fit(X_train, y_train)\n",
    "\n",
    "y_pred = nblib.predict(X_val)\n",
    "\n",
    "print(\"Accuracy nb library: \", accuracy_score(y_val, y_pred))"
   ]
  },
  {
   "cell_type": "markdown",
   "metadata": {
    "id": "TLDtIkPdLfHg"
   },
   "source": [
    "## C. ID3"
   ]
  },
  {
   "cell_type": "code",
   "execution_count": null,
   "metadata": {
    "id": "gZ6_x1LKLfHh"
   },
   "outputs": [],
   "source": []
  },
  {
   "cell_type": "markdown",
   "metadata": {},
   "source": [
    "### ID3 Library"
   ]
  },
  {
   "cell_type": "code",
   "execution_count": 112,
   "metadata": {},
   "outputs": [
    {
     "name": "stdout",
     "output_type": "stream",
     "text": [
      "Accuracy ID3 library:  0.685860889395667\n"
     ]
    }
   ],
   "source": [
    "from sklearn.tree import DecisionTreeClassifier\n",
    "\n",
    "# Membuat dan melatih model Decision Tree\n",
    "dt_model = DecisionTreeClassifier(criterion='entropy', random_state=42)\n",
    "dt_model.fit(X_train, y_train)\n",
    "\n",
    "# Melakukan prediksi\n",
    "y_pred_dt = dt_model.predict(X_val)\n",
    "\n",
    "# Evaluasi hasil\n",
    "print(\"Accuracy ID3 library: \", accuracy_score(y_val, y_pred_dt))"
   ]
  },
  {
   "cell_type": "markdown",
   "metadata": {
    "id": "LoH2u6fOLfHh"
   },
   "source": [
    "## D. Improvements (Optional)\n",
    "\n",
    "- **Visualize the model evaluation result**\n",
    "\n",
    "This will help you to understand the details more clearly about your model's performance. From the visualization, you can see clearly if your model is leaning towards a class than the others. (Hint: confusion matrix, ROC-AUC curve, etc.)\n",
    "\n",
    "- **Explore the hyperparameters of your models**\n",
    "\n",
    "Each models have their own hyperparameters. And each of the hyperparameter have different effects on the model behaviour. You can optimize the model performance by finding the good set of hyperparameters through a process called **hyperparameter tuning**. (Hint: Grid search, random search, bayesian optimization)\n",
    "\n",
    "- **Cross-validation**\n",
    "\n",
    "Cross-validation is a critical technique in machine learning and data science for evaluating and validating the performance of predictive models. It provides a more **robust** and **reliable** evaluation method compared to a hold-out (single train-test set) validation. Though, it requires more time and computing power because of how cross-validation works. (Hint: k-fold cross-validation, stratified k-fold cross-validation, etc.)"
   ]
  },
  {
   "cell_type": "code",
   "execution_count": 113,
   "metadata": {
    "id": "pg-A54yELfHh"
   },
   "outputs": [],
   "source": [
    "# Type your code here"
   ]
  },
  {
   "cell_type": "markdown",
   "metadata": {
    "id": "Li4l53DjLfHh"
   },
   "source": [
    "## E. Submission\n",
    "To predict the test set target feature and submit the results to the kaggle competition platform, do the following:\n",
    "1. Create a new pipeline instance identical to the first in Data Preprocessing\n",
    "2. With the pipeline, apply `fit_transform` to the original training set before splitting, then only apply `transform` to the test set.\n",
    "3. Retrain the model on the preprocessed training set\n",
    "4. Predict the test set\n",
    "5. Make sure the submission contains the `id` and `attack_cat` column."
   ]
  },
  {
   "cell_type": "code",
   "execution_count": 114,
   "metadata": {
    "id": "LeqnfWc-LfHi"
   },
   "outputs": [],
   "source": [
    "# Type your code here"
   ]
  },
  {
   "cell_type": "markdown",
   "metadata": {
    "id": "R-jXvKOpLfHi"
   },
   "source": [
    "# 6. Error Analysis\n",
    "\n",
    "Based on all the process you have done until the modeling and evaluation step, write an analysis to support each steps you have taken to solve this problem. Write the analysis using the markdown block. Some questions that may help you in writing the analysis:\n",
    "\n",
    "- Does my model perform better in predicting one class than the other? If so, why is that?\n",
    "- To each models I have tried, which performs the best and what could be the reason?\n",
    "- Is it better for me to impute or drop the missing data? Why?\n",
    "- Does feature scaling help improve my model performance?\n",
    "- etc..."
   ]
  },
  {
   "cell_type": "markdown",
   "metadata": {
    "id": "tWL3nEAELfHj"
   },
   "source": [
    "`Provide your analysis here`"
   ]
  }
 ],
 "metadata": {
  "colab": {
   "provenance": [],
   "toc_visible": true
  },
  "kernelspec": {
   "display_name": "Python 3",
   "language": "python",
   "name": "python3"
  },
  "language_info": {
   "codemirror_mode": {
    "name": "ipython",
    "version": 3
   },
   "file_extension": ".py",
   "mimetype": "text/x-python",
   "name": "python",
   "nbconvert_exporter": "python",
   "pygments_lexer": "ipython3",
   "version": "3.12.8"
  }
 },
 "nbformat": 4,
 "nbformat_minor": 0
}
